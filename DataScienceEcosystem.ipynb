{
 "cells": [
  {
   "cell_type": "markdown",
   "id": "9e502271-39bb-40b3-bb49-12dbbd71d2f8",
   "metadata": {
    "panel-layout": {
     "height": 94.3125,
     "visible": true,
     "width": 100
    }
   },
   "source": [
    "# Data Science Tools and Ecosystem"
   ]
  },
  {
   "cell_type": "markdown",
   "id": "e41859f9-0243-43bd-b0a6-3712993197ad",
   "metadata": {
    "panel-layout": {
     "height": 60.0625,
     "visible": true,
     "width": 100
    }
   },
   "source": [
    "#### In this notebook, Data Science Tools and Ecosystem are summarized."
   ]
  },
  {
   "cell_type": "markdown",
   "id": "97404626-28c9-4e08-9330-b5e763f3d0cb",
   "metadata": {
    "panel-layout": {
     "height": 166.71875,
     "visible": true,
     "width": 100
    }
   },
   "source": [
    "### Some of the popular languages that Data Sciencists use are:\n",
    "1. Python\n",
    "2. R\n",
    "3. Java\n",
    "4. SQL\n",
    "5. Julia"
   ]
  },
  {
   "cell_type": "markdown",
   "id": "e8bc600f-cb17-4ef4-9f99-9e6e9ac124b2",
   "metadata": {
    "panel-layout": {
     "height": 149.578125,
     "visible": true,
     "width": 100
    }
   },
   "source": [
    "### Some of the commonly used libraries used by Data Sciencists include:\n",
    "1. Pandas\n",
    "2. Matplotlib\n",
    "3. Numpy\n",
    "4. SciPy"
   ]
  },
  {
   "cell_type": "markdown",
   "id": "17dc04ff-4b82-4db9-8c77-4ca037783360",
   "metadata": {
    "panel-layout": {
     "height": 152,
     "visible": true,
     "width": 100
    }
   },
   "source": [
    "|Data Science Tools|\n",
    "|----|\n",
    "| Apache Spark |\n",
    "| Tensorflow |\n",
    "| Tableau |"
   ]
  },
  {
   "cell_type": "markdown",
   "id": "01e88d92-9b5a-42d8-996b-a9d23cb1c447",
   "metadata": {},
   "source": [
    "### Below are a few examples of evaluating arithmetic expressions in Python."
   ]
  },
  {
   "cell_type": "code",
   "execution_count": 20,
   "id": "29e43e2d-c19d-4539-a14e-9f976cc260db",
   "metadata": {},
   "outputs": [
    {
     "data": {
      "text/plain": [
       "17"
      ]
     },
     "execution_count": 20,
     "metadata": {},
     "output_type": "execute_result"
    }
   ],
   "source": [
    "# This a simple arithmetic expression to mutiply then add integers\n",
    "(3*4)+5"
   ]
  },
  {
   "cell_type": "code",
   "execution_count": 22,
   "id": "0a552e1e-4d96-4fe2-8586-052b04c6fcd4",
   "metadata": {},
   "outputs": [
    {
     "data": {
      "text/plain": [
       "3.3333333333333335"
      ]
     },
     "execution_count": 22,
     "metadata": {},
     "output_type": "execute_result"
    }
   ],
   "source": [
    "# This will convert 200 minutes to hours by diving by 60\n",
    "200/60"
   ]
  },
  {
   "cell_type": "markdown",
   "id": "b4f3b645-d2ac-436f-9a36-dac0c0d83035",
   "metadata": {},
   "source": [
    "## Objectives\n",
    "* List popular languages for Data Science\n",
    "* List popular tools for Data Science\n",
    "* List commonly used Libraries for Data Science\n",
    "* Some of arithmetic expressions in Python"
   ]
  },
  {
   "cell_type": "markdown",
   "id": "5df6a64c-2aae-42ea-b52e-7f29cc3be224",
   "metadata": {},
   "source": [
    "## Author\n",
    "Abdirahin Hussein"
   ]
  },
  {
   "cell_type": "code",
   "execution_count": null,
   "id": "6cec27e9-765c-4d38-9608-e8b91ffeda2c",
   "metadata": {},
   "outputs": [],
   "source": []
  }
 ],
 "metadata": {
  "kernelspec": {
   "display_name": "Python 3 (ipykernel)",
   "language": "python",
   "name": "python3"
  },
  "language_info": {
   "codemirror_mode": {
    "name": "ipython",
    "version": 3
   },
   "file_extension": ".py",
   "mimetype": "text/x-python",
   "name": "python",
   "nbconvert_exporter": "python",
   "pygments_lexer": "ipython3",
   "version": "3.12.4"
  },
  "panel-cell-order": [
   "9e502271-39bb-40b3-bb49-12dbbd71d2f8",
   "e41859f9-0243-43bd-b0a6-3712993197ad",
   "97404626-28c9-4e08-9330-b5e763f3d0cb",
   "e8bc600f-cb17-4ef4-9f99-9e6e9ac124b2",
   "17dc04ff-4b82-4db9-8c77-4ca037783360",
   "4b3d248e-4eb5-40cb-9dea-20ad6af57dd9"
  ]
 },
 "nbformat": 4,
 "nbformat_minor": 5
}
